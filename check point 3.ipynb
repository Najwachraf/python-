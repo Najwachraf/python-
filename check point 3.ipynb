{
 "cells": [
  {
   "cell_type": "markdown",
   "id": "81f9e514",
   "metadata": {},
   "source": [
    "# Question 1"
   ]
  },
  {
   "cell_type": "code",
   "execution_count": 11,
   "id": "762ecee1",
   "metadata": {},
   "outputs": [
    {
     "name": "stdout",
     "output_type": "stream",
     "text": [
      "36\n"
     ]
    }
   ],
   "source": [
    "def mult(liste):\n",
    "    i = 1\n",
    "    for element in liste:\n",
    "        i *= element\n",
    "    return i\n",
    " \n",
    "li = [2,3,6]\n",
    "print (mult(x))"
   ]
  },
  {
   "cell_type": "markdown",
   "id": "618eaf9a",
   "metadata": {},
   "source": [
    "# Question 2"
   ]
  },
  {
   "cell_type": "code",
   "execution_count": 19,
   "id": "cfcf4987",
   "metadata": {},
   "outputs": [
    {
     "name": "stdout",
     "output_type": "stream",
     "text": [
      "[(1, 2), (2, 1), (2, 3), (2, 5), (4, 4)]\n"
     ]
    }
   ],
   "source": [
    "def ordre(liste):\n",
    "    \n",
    "    liste.sort()\n",
    "    return liste\n",
    "liste=[(2, 5), (1, 2), (4, 4), (2, 3), (2, 1)]\n",
    "print(ordre(liste))\n",
    "    "
   ]
  },
  {
   "cell_type": "markdown",
   "id": "cf71cad6",
   "metadata": {},
   "source": [
    "# Question 3"
   ]
  },
  {
   "cell_type": "code",
   "execution_count": 29,
   "id": "f5b64e9e",
   "metadata": {},
   "outputs": [
    {
     "name": "stdout",
     "output_type": "stream",
     "text": [
      "{'a': 400, 'b': 400, 'c': 300, 'd': 400}\n"
     ]
    }
   ],
   "source": [
    "def dictionary(dic1,dic2):\n",
    "    dic3={}\n",
    "    for key in dic1.keys():\n",
    "        if key in dic2.keys():\n",
    "            dic3[key]=dic1[key]+dic2[key]\n",
    "        else:\n",
    "            dic3[key]=dic1[key]\n",
    "    for key in dic2.keys():\n",
    "        if key not in dic1.keys():\n",
    "            dic3[key]=dic2[key]\n",
    "\n",
    "    return dic3  \n",
    "dic1 = {'a': 100, 'b': 200, 'c':300}\n",
    "dic2 = {'a': 300, 'b': 200, 'd':400}\n",
    "print (dictionary(dic1,dic2))\n"
   ]
  },
  {
   "cell_type": "markdown",
   "id": "e8a96e3b",
   "metadata": {},
   "source": [
    "# Question 4"
   ]
  },
  {
   "cell_type": "code",
   "execution_count": 11,
   "id": "b2b05bc0",
   "metadata": {},
   "outputs": [
    {
     "data": {
      "text/plain": [
       "{1: 1, 2: 4, 3: 9, 4: 16, 5: 25, 6: 36, 7: 49, 8: 64}"
      ]
     },
     "execution_count": 11,
     "metadata": {},
     "output_type": "execute_result"
    }
   ],
   "source": [
    "def dictionair (n):\n",
    "    dic={}\n",
    "    for i in range(1,n+1):\n",
    "        dic[i]=i*i\n",
    "    return dic\n",
    "dictionair(8)\n",
    "    \n",
    "    "
   ]
  },
  {
   "cell_type": "markdown",
   "id": "18a71193",
   "metadata": {},
   "source": [
    "# Question 5"
   ]
  },
  {
   "cell_type": "code",
   "execution_count": 21,
   "id": "0238ec3e",
   "metadata": {},
   "outputs": [
    {
     "data": {
      "text/plain": [
       "[('item3', 24.5), ('item2', 15.1), ('item1', 12.2)]"
      ]
     },
     "execution_count": 21,
     "metadata": {},
     "output_type": "execute_result"
    }
   ],
   "source": [
    "def tupl(d):\n",
    "    d=[(\"item1\",12.20),(\"item2\",15.10),(\"item3\",24.5)]  \n",
    "    return d[1]\n",
    "d.sort(key=tupl,reverse=True)\n",
    "d"
   ]
  },
  {
   "cell_type": "code",
   "execution_count": null,
   "id": "00ac1131",
   "metadata": {},
   "outputs": [],
   "source": []
  },
  {
   "cell_type": "code",
   "execution_count": null,
   "id": "8d2ea731",
   "metadata": {},
   "outputs": [],
   "source": []
  }
 ],
 "metadata": {
  "kernelspec": {
   "display_name": "Python 3",
   "language": "python",
   "name": "python3"
  },
  "language_info": {
   "codemirror_mode": {
    "name": "ipython",
    "version": 3
   },
   "file_extension": ".py",
   "mimetype": "text/x-python",
   "name": "python",
   "nbconvert_exporter": "python",
   "pygments_lexer": "ipython3",
   "version": "3.8.8"
  }
 },
 "nbformat": 4,
 "nbformat_minor": 5
}
